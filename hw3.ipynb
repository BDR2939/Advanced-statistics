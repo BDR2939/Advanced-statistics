{
  "cells": [
    {
      "attachments": {},
      "cell_type": "markdown",
      "metadata": {
        "colab_type": "text",
        "id": "view-in-github"
      },
      "source": [
        "<a href=\"https://colab.research.google.com/github/BDR2939/Advanced-statistics/blob/master/hw3.ipynb\" target=\"_parent\"><img src=\"https://colab.research.google.com/assets/colab-badge.svg\" alt=\"Open In Colab\"/></a>"
      ]
    },
    {
      "attachments": {},
      "cell_type": "markdown",
      "id": "eb610ec7",
      "metadata": {
        "id": "eb610ec7"
      },
      "source": [
        "#### Advanced Statistics for Data Science (Spring 2022)\n",
        "# Home Assignment 3\n",
        "#### Topics:\n",
        "- Statistical Estimation\n",
        "- Hypothesis Testing in one and two samples\n",
        "- ANOVA\n",
        "\n",
        "#### Due: 23/05/2023 by 18:30\n",
        "\n",
        "#### Instructions:\n",
        "- Write your name, Student ID, and date in the cell below. \n",
        "- Submit a copy of this notebook with code filled in the relevant places as the solution of coding excercises.\n",
        "- For theoretic excercises, you can either write your solution in the notebook using $\\LaTeX$ or submit additional notes.\n",
        "\n",
        "<hr>\n",
        "<hr>"
      ]
    },
    {
      "attachments": {},
      "cell_type": "markdown",
      "id": "87cf7a3b",
      "metadata": {
        "id": "87cf7a3b"
      },
      "source": [
        "\n",
        "**Name**: Roni Ben Dom\n",
        "\n",
        "**Date**: 21/05/2023\n",
        "\n",
        "$\n",
        "\\newcommand{\\Id}{{\\mathbf{I}}}  \n",
        "\\newcommand{\\SSE}{\\mathsf{SSE}}\n",
        "\\newcommand{\\SSR}{\\mathsf{SSR}}\n",
        "\\newcommand{\\MSE}{\\mathsf{MSE}}\n",
        "\\newcommand{\\simiid}{\\overset{iid}{\\sim}}\n",
        "\\newcommand{\\ex}{\\mathbb E}\n",
        "\\newcommand{\\var}{\\mathrm{Var}}\n",
        "\\newcommand{\\Cov}[2]{{\\mathrm{Cov}  \\left(#1, #2 \\right)}}\n",
        "\\newcommand{\\one}[1]{\\mathbf 1 {\\left\\{#1\\right\\}}}\n",
        "\\newcommand{\\SE}[1]{\\mathrm{SE} \\left[#1\\right]}\n",
        "\\newcommand{\\reals}{\\mathbb R}\n",
        "\\newcommand{\\Ncal}{\\mathcal N}\n",
        "\\newcommand{\\abs}[1]{\\ensuremath{\\left\\vert#1\\right\\vert}}\n",
        "\\newcommand{\\rank}{\\operatorname{rank}}\n",
        "\\newcommand{\\tr}{\\operatorname{Tr}}\n",
        "\\newcommand{\\diag}{\\operatorname{diag}}\n",
        "\\newcommand{\\sign}{\\operatorname{sign}}\n",
        "$\n"
      ]
    },
    {
      "attachments": {},
      "cell_type": "markdown",
      "id": "7b1008d9",
      "metadata": {
        "id": "7b1008d9"
      },
      "source": [
        "<hr>\n",
        "<hr>"
      ]
    },
    {
      "attachments": {},
      "cell_type": "markdown",
      "id": "e8882cc3",
      "metadata": {
        "id": "e8882cc3"
      },
      "source": [
        "## Problem 1 (Correlated Data)\n",
        "\n",
        "Suppose that $Y_1,\\ldots,Y_n$ has each mean $\\mu$ and variance $\\sigma^2$, but \n",
        "$$\n",
        "\\rho_{ij} := \\mathrm{Corr}(Y_i,Y_j) = \\begin{cases}\n",
        "1 & i=j \\\\\n",
        "\\rho & |i-j| = 1 \\\\\n",
        "0 & |i-j| > 1\n",
        "\\end{cases}.\n",
        "$$\n",
        "This situation arise when an observation $i$ may depend to some extent on only the previous observation’s white noise: an one-lag \"holdeover effect\". This is also known as the \"lag-1 moving average\" model (MA(1)). \n",
        "\n",
        "1. Show that:\n",
        "  - $$\\mathrm{Var}(\\bar{Y}) = \\frac{\\sigma^2}{n}(1+ 2\\rho \\frac{n-1}{n})$$\n",
        "Namely, positive correlation increases varaince. Hint: use that $\\mathrm{Var}(U+V) = \\mathrm{Var}(U) + \\mathrm{Var}(V) + 2 \\mathrm{Cov}(U,V)$ and induction or recursive computation over $n$. Another option is to write $Y = \\Sigma^{1/2}Z$ where $Z\\sim \\Ncal(0,I)$ and $\\Sigma^{1/2}$ is symmetric with  $\\Sigma^{1/2}\\Sigma^{1/2} = \\Sigma$ has the desired covariance stracture.  \n",
        "\n",
        "  - $$\\qquad \\ex[{s^2}] = \\sigma^2(1 - 2\\rho/n)$$\n",
        "  where $s^2$ is the standard varince estiamte. \n",
        "Namely, with positive correlation the \"variety\" in the data is smaller. \n",
        "\n",
        "  - **(Bonus)** The t-statistic statisfies\n",
        "$$\n",
        "t = \\sqrt{n} \\frac{\\bar{Y}-\\mu}{s} \\to \\Ncal(0,1 + 2 \\rho),\\quad n \\to \\infty\n",
        "$$\n",
        "Hint: you may use the following version of Slutsky's Theorem: for two sequences of RV $U_n$ and $V_n$, if $U_n \\overset{D}{\\to} U$ and $V_n \\overset{p}{\\to} c$ (constant), then $V_n U_n \\overset{D}{\\to} cU$\n",
        "2. Verify your answer to the first two items in 1 using simulations. Use `nMonte = 10000` problem instances. In each instance, use a sample size of `n = 10` with $\\sigma=1$ and $\\rho \\in \\{\\pm 0.1, \\pm 0.3, \\pm0.5\\}$. The function `genrate_correlated_data` below generates noramlly distributed data satisfying the correlation model above. \n",
        "\n",
        "3. Suppose $\\rho>0$\n",
        " - Derive a $1-\\alpha$ confidence interval based on $s$ and the $t$-distribution with $n-1$ DoF. Does your interval \n",
        " contain the value of $\\mu$ more or less often than $1-\\alpha$? Verify using a simulation with `nMonte = 10000` problem instances of sampes size `n=100`. Also use $\\alpha=0.05$, $\\rho=.25$, $\\sigma =1$, and $\\mu_0=2$. \n",
        " \n",
        " - Suppose that we reject $H_0\\,:\\,\\mu = \\mu_0$ whenever $|t|$ exceeds the critical value $t_{n-1}^{1-\\alpha/2}$. Would our P-value be too small or too large? Would we reject more or less often then $\\alpha$ if the null $\\mu = \\mu_0$ is true? Verify using a simulation with `nMonte = 10000` problem instances of sampes size `n=100`. Also use $\\alpha=0.05$, $\\rho=.25$, $\\sigma =1$, and $\\mu_0=2$. \n",
        " \n",
        " - Would your answer to the preivous two items change if $\\rho < 0$? how?\n",
        "\n",
        "The point: correlation in our data is bad because it makes us make wrong descisions. The effect of correlation is much worst than non-nomrality since the latter diminishes with $n$ due to the CLT. \n"
      ]
    },
    {
      "cell_type": "code",
      "execution_count": 1,
      "id": "57077599",
      "metadata": {
        "id": "57077599"
      },
      "outputs": [],
      "source": [
        "import numpy as np\n",
        "def genrate_correlated_data(n: int, rho: float, mu: float, sigma: float) -> np.ndarray:\n",
        "    \"\"\"\n",
        "    Generate samples from the model:\n",
        "    Yi ~ N(mu, sigma^2) and Corr(Yi,Yj) = ( i == j ) + rho * ( abs( i - j ) == 1 )\n",
        "    \n",
        "    Args:\n",
        "    -----\n",
        "    :n:     sample size\n",
        "    :rho:   desired one lag correlation between samples\n",
        "    :mu:    mean\n",
        "    :sigma: standard deviation\n",
        "    \n",
        "    \"\"\"\n",
        "    assert sigma > 0\n",
        "    \n",
        "    # build desired covariance matrix\n",
        "    Sig = np.zeros((n,n))\n",
        "    for i in range(n):\n",
        "        for j in range(n):\n",
        "            if i==j : \n",
        "                Sig[i,j] = 1\n",
        "            if np.abs(i-j) == 1:\n",
        "                Sig[i,j] = rho\n",
        "                Sig[j,i] = rho\n",
        "                \n",
        "    # get matrix square root of covariance matrix:\n",
        "    Sig_sqrt = np.linalg.cholesky(sigma**2 * Sig)\n",
        "    \n",
        "    # sample from the standard normal dist. and transform \n",
        "    # so that the result is a normal vector with the desired \n",
        "    # covaraince structure\n",
        "    return mu + Sig_sqrt @ np.random.randn(n)\n"
      ]
    },
    {
      "attachments": {},
      "cell_type": "markdown",
      "id": "zQZoRxh221EI",
      "metadata": {
        "id": "zQZoRxh221EI"
      },
      "source": [
        "1. \n",
        "\n",
        " - Proof by induction:<br>\n",
        "  First lets prove for $n = 1$:<br>\n",
        "  $\\operatorname{Var}\\left(\\bar{Y}\\right) = \\operatorname{Var}\\left(Y_{1}\\right) \\underbrace{=}_{\\text{by definition}} \\sigma^{2} = \\frac{\\sigma^2}{n}(1+ 2\\rho \\frac{n-1}{n}) = \\frac{\\sigma^2}{1}(1+ 2\\rho \\frac{0}{1}) =  \\sigma^2$\n",
        "\n",
        "    Now assume it exists for n  and prove for n+1:<br>\n",
        "    $\\displaystyle{ \\operatorname{Var}\\left(\\bar{Y}\\right) = \\operatorname{Var}\\left(\\frac{1}{n+1}\\sum_{i=1}^{n+1}Y_{i}\\right) = \\operatorname{Var}\\left(\\frac{n}{n+1}\\frac{1}{n}\\sum_{i=1}^{n+1}Y_{i}\\right) = \\left(\\frac{n}{n+1}\\right)^{2} \\operatorname{Var}\\left(\\frac{1}{n}\\sum_{i=1}^{n+1}Y_{i}\\right) = \\left(\\frac{n}{n+1}\\right)^{2} \\operatorname{Var}\\left(\\frac{1}{n}\\sum_{i=1}^{n}Y_{i} + \\frac{1}{n}Y_{n+1}\\right) = \\left(\\frac{n}{n+1}\\right)^{2}\\left[\\operatorname{Var}\\left(\\frac{1}{n}\\sum_{i=1}^{n}Y_{i}\\right) +\\operatorname{Var}\\left(\\frac{1}{n}Y_{n+1}\\right) + 2\\cdot\\operatorname{Cov}\\left(\\frac{1}{n}\\sum_{i=1}^{n}Y_{i}, \\frac{1}{n}Y_{n+1}\\right)\\right] = \\left(\\frac{n}{n+1}\\right)^{2}\\left[\\frac{\\sigma^2}{n}(1+ 2\\rho \\frac{n-1}{n})+\\frac{\\sigma^{2}}{n^{2}} + 2\\cdot\\frac{1}{n^{2}}\\sum_{i=1}^{n}\\operatorname{Cov}\\left(Y_{i}, Y_{n+1}\\right)\\right] = \\left(\\frac{n}{n+1}\\right)^{2}\\left[\\frac{\\sigma^2}{n}(1+ 2\\rho \\frac{n-1}{n})+\\frac{\\sigma^{2}}{n^{2}} + 2\\cdot\\frac{1}{n^{2}}\\rho\\sigma^{2}\\right] =\\frac{n\\sigma^2\\left(1+2\\rho\\frac{n-1}{n}\\right)+\\sigma^{2} + 2\\rho\\sigma^{2}}{\\left(n+1\\right)^{2}} = \\frac{n\\sigma^2 + 2\\rho(n-1)\\sigma^{2}+\\sigma^{2} + 2\\rho\\sigma^{2}}{\\left(n+1\\right)^{2}} = \\frac{\\sigma^{2}\\left(n + 2\\rho(n-1)+1 + 2\\rho\\right)}{\\left(n+1\\right)^{2}} = \\frac{\\sigma^{2}\\left(2\\rho\\cdot n + n + 1 \\right)}{\\left(n+1\\right)^{2}} = \\frac{\\sigma^{2}}{n+1}\\left[\\frac{\\left(2\\rho\\cdot n + n + 1 \\right)}{n+1}\\right] = \\frac{\\sigma^{2}}{n+1}\\left[\\frac{2\\rho\\cdot n}{n+1} + \\frac{n + 1}{n+1}\\right] = \\frac{\\sigma^{2}}{n+1}\\left[\\frac{2\\rho\\cdot n}{n+1} + 1\\right]\\blacksquare}$\n",
        "  <br>\n",
        "  <br>\n",
        "  - $ \\displaystyle{s^{2} = \\frac{1}{n-1}\\sum_{i=1}^{n}\\left(y_{i}-\\bar{y}\\right)^{2}}$\n",
        "\n",
        "    $\\displaystyle{\\mathbb{E}\\left(s^{2}\\right) = \\mathbb{E}\\left(\\frac{1}{n-1}\\sum_{i=1}^{n}\\left(y_{i}-\\bar{y}\\right)^{2}\\right) = \\frac{1}{n-1}\\mathbb{E}\\left(\\sum_{i=1}^{n}\\left(y_{i}-\\bar{y}\\right)^{2}\\right) = \\frac{1}{n-1}\\mathbb{E}\\left(\\sum_{i=1}^{n}\\left(y_{i}^{2}-2y_{i}\\bar{y} + \\bar{y}^{2}\\right)\\right) = \\frac{1}{n-1}\\mathbb{E}\\left(\\sum_{i=1}^{n}y_{i}^{2}-2\\sum_{i=1}^{n}y_{i}\\bar{y} + n\\bar{y}^{2}\\right) = \\frac{1}{n-1}\\left[\\mathbb{E}\\left(\\sum_{i=1}^{n}y_{i}^{2}\\right)-2\\mathbb{E}\\left(\\sum_{i=1}^{n}y_{i}\\bar{y}\\right) + \\mathbb{E}\\left(n\\bar{y}^{2}\\right)\\right] = \\frac{1}{n-1}\\left[\\mathbb{E}\\left(\\sum_{i=1}^{n}y_{i}^{2}\\right)-2\\mathbb{E}\\left(n\\bar{y}^{2}\\right) + \\mathbb{E}\\left(n\\bar{y}^{2}\\right)\\right] = \\frac{1}{n-1}\\left[\\mathbb{E}\\left(\\sum_{i=1}^{n}y_{i}^{2}\\right)-2\\mathbb{E}\\left(n\\bar{y}^{2}\\right) + \\mathbb{E}\\left(n\\bar{y}^{2}\\right)\\right] = \\frac{1}{n-1}\\left[\\mathbb{E}\\left(\\sum_{i=1}^{n}y_{i}^{2}\\right)-\\mathbb{E}\\left(n\\bar{y}^{2}\\right)\\right] = \\frac{1}{n-1}\\left[\\sum_{i=1}^{n}\\mathbb{E}\\left(y_{i}^{2}\\right)-\\mathbb{E}\\left(n\\bar{y}^{2}\\right)\\right] \\underbrace{=}_{\\operatorname{Var}\\left(x\\right) = \\mathbb{E}\\left(x^{2}\\right) - \\left[\\mathbb{E}\\left(x\\right)\\right]^{2} \\Rightarrow \\mathbb{E}\\left(x^{2}\\right) = \\operatorname{Var}\\left(x\\right) + \\left[\\mathbb{E}\\left(x\\right)\\right]^{2}} \\frac{1}{n-1}\\left[n\\left(\\sigma^{2} + \\mu^{2}\\right) - n\\left(\\frac{\\sigma^2}{n}\\left(1+ 2\\rho \\frac{n-1}{n}\\right) + \\mu^{2}\\right)\\right] = \\frac{1}{n-1}\\left[n\\sigma^{2} + n\\mu^{2} - \\sigma^2\\left(1+ 2\\rho \\frac{n-1}{n}\\right) - n\\mu^{2}\\right] = \\frac{1}{n-1}\\left[n\\sigma^{2} - \\sigma^2\\left(1+ 2\\rho \\frac{n-1}{n}\\right)\\right] = \\frac{1}{n-1}\\left[n\\sigma^{2} - \\sigma^2 - 2\\rho\\sigma^{2} \\frac{n-1}{n}\\right] = \\frac{1}{n-1}\\left[\\sigma^{2}\\left(n-1\\right) - 2\\rho\\sigma^{2} \\frac{n-1}{n}\\right] = \\sigma^{2} - \\frac{2\\rho\\sigma^{2}}{n} = \\sigma^{2}\\left(1 - \\frac{2\\rho}{n}\\right)\\blacksquare }$"
      ]
    },
    {
      "attachments": {},
      "cell_type": "markdown",
      "id": "L1BT_-vaj1SG",
      "metadata": {
        "id": "L1BT_-vaj1SG"
      },
      "source": [
        "2. "
      ]
    },
    {
      "cell_type": "code",
      "execution_count": 2,
      "id": "DgTjyVXx20jI",
      "metadata": {
        "colab": {
          "base_uri": "https://localhost:8080/"
        },
        "id": "DgTjyVXx20jI",
        "outputId": "d3229d37-7f69-4310-8ada-ae1e27939759"
      },
      "outputs": [
        {
          "name": "stdout",
          "output_type": "stream",
          "text": [
            "For rho = -0.5\n",
            "var Y bar = 0.010087377821182781, var y bar formula = 0.009999999999999998 \n",
            "E(s^2) = 1.1040375496152652, E(s^2) formula = 1.1\n",
            "\n",
            "For rho = -0.3\n",
            "var Y bar = 0.045413378274426396, var y bar formula = 0.04600000000000001 \n",
            "E(s^2) = 1.0574799817170462, E(s^2) formula = 1.06\n",
            "\n",
            "For rho = -0.1\n",
            "var Y bar = 0.08389466955494045, var y bar formula = 0.08200000000000002 \n",
            "E(s^2) = 1.0148641332708774, E(s^2) formula = 1.02\n",
            "\n",
            "For rho = 0.1\n",
            "var Y bar = 0.11665499673616168, var y bar formula = 0.118 \n",
            "E(s^2) = 0.9871245249795567, E(s^2) formula = 0.98\n",
            "\n",
            "For rho = 0.3\n",
            "var Y bar = 0.15343308456213556, var y bar formula = 0.15400000000000003 \n",
            "E(s^2) = 0.9404822998700134, E(s^2) formula = 0.94\n",
            "\n",
            "For rho = 0.5\n",
            "var Y bar = 0.19263966310840766, var y bar formula = 0.19 \n",
            "E(s^2) = 0.9053346120185847, E(s^2) formula = 0.9\n",
            "\n"
          ]
        }
      ],
      "source": [
        "nMonte = 10000\n",
        "n = 10 \n",
        "mu, sigma = 0, 1\n",
        "rhos = [-0.5, -0.3, -0.1, 0.1, 0.3, 0.5]\n",
        "\n",
        "for rho in rhos:\n",
        "  samples = [genrate_correlated_data(n, rho, mu, sigma) for i in range(nMonte)]\n",
        "\n",
        "  samples_mean = [np.mean(sample) for sample in samples]\n",
        "  var_y_bar = np.var(samples_mean)\n",
        "  s_square = [np.sum((samples[i] - samples_mean[i]) ** 2) / (n - 1) for i in range(len(samples_mean))]\n",
        "  s_square_mean = np.mean(s_square)\n",
        "\n",
        "  var_y_bar_formula = (sigma**2 / n) * (1 + (2 * rho * (n-1) / n))\n",
        "  s_square_mean_formula = sigma**2 * (1 - (2 * rho / n))\n",
        "\n",
        "  print(f'For rho = {rho}\\nvar Y bar = {var_y_bar}, var y bar formula = {var_y_bar_formula} \\nE(s^{2}) = {s_square_mean}, E(s^{2}) formula = {s_square_mean_formula}\\n')"
      ]
    },
    {
      "attachments": {},
      "cell_type": "markdown",
      "id": "6jnoPTKO69Qw",
      "metadata": {
        "id": "6jnoPTKO69Qw"
      },
      "source": [
        "3. "
      ]
    },
    {
      "cell_type": "code",
      "execution_count": 3,
      "id": "bYo6Nvw1qigL",
      "metadata": {
        "colab": {
          "base_uri": "https://localhost:8080/"
        },
        "id": "bYo6Nvw1qigL",
        "outputId": "79cb8048-23fa-471f-973d-16597d2f9282"
      },
      "outputs": [
        {
          "name": "stdout",
          "output_type": "stream",
          "text": [
            "89.11% out of the 10000 trials the real value of mu was in the confisence interval, less than the expected 95% of the trials\n",
            "in 10.89% out of the 10000 trials the H0 hypothesis was rejected (|t| > critical_t), more than the expected 5% of the trials\n",
            "in 5.54% out of the 10000 trials the H0 hypothesis was rejected (t > critical_t), more than the expected 5% of the trials\n",
            "\n",
            "For negative rho the answer would be as following:\n",
            "99.39% out of the 10000 trials the real value of mu was in the confisence interval, more than the expected 95% of the trials\n",
            "in 0.61% out of the 10000 trials the H0 hypothesis was rejected (|t| > critical_t), less than the expected 5% of the trials\n",
            "in 0.37% out of the 10000 trials the H0 hypothesis was rejected (t > critical_t), less than the expected 5% of the trials\n"
          ]
        }
      ],
      "source": [
        "from scipy import stats\n",
        "\n",
        "def ex3(mu, sigma, n,nMonte, alpha, rho):\n",
        "  in_CI_counter = 0\n",
        "  abs_reject_counter = 0\n",
        "  reject_counter = 0\n",
        "\n",
        "\n",
        "  t_alpha_bar = stats.t.ppf(1 - (alpha / 2), df=n-1)\n",
        "\n",
        "  for i in range(nMonte):\n",
        "      samples = genrate_correlated_data(n, rho, mu, sigma)\n",
        "\n",
        "      samples_mean = np.mean(samples)\n",
        "      s_square = np.sum((samples - samples_mean) ** 2) / (n - 1)\n",
        "      s = s_square ** 0.5\n",
        "\n",
        "      l = samples_mean - (s / np.sqrt(n)) * t_alpha_bar\n",
        "      u = samples_mean + (s / np.sqrt(n)) * t_alpha_bar\n",
        "\n",
        "      if (l <= mu) and (mu <= u):\n",
        "        in_CI_counter += 1\n",
        "\n",
        "      t_statistic = (samples_mean - mu) / (s / n ** 0.5)\n",
        "\n",
        "      if abs(t_statistic) > t_alpha_bar:\n",
        "        abs_reject_counter += 1\n",
        "      \n",
        "      if t_statistic > t_alpha_bar:\n",
        "        reject_counter += 1\n",
        "\n",
        "  val = 'more' if (in_CI_counter * 100 / nMonte) > 95 else 'less'\n",
        "  print(f'{in_CI_counter * 100 / nMonte}% out of the {nMonte} trials the real value of mu was in the confisence interval, {val} than the expected 95% of the trials')\n",
        "  val = 'more' if (abs_reject_counter * 100 / nMonte) > 5 else 'less'\n",
        "  print(f'in {abs_reject_counter * 100 / nMonte}% out of the {nMonte} trials the H0 hypothesis was rejected (|t| > critical_t), {val} than the expected 5% of the trials')\n",
        "  val = 'more' if (reject_counter * 100 / nMonte) > 5 else 'less'\n",
        "  print(f'in {reject_counter * 100 / nMonte}% out of the {nMonte} trials the H0 hypothesis was rejected (t > critical_t), {val} than the expected 5% of the trials')\n",
        "\n",
        "mu, sigma = 2, 1\n",
        "n = 100\n",
        "nMonte = 10000\n",
        "alpha = 0.05\n",
        "rho = 0.25\n",
        "\n",
        "ex3(mu, sigma, n,nMonte, alpha, rho)\n",
        "\n",
        "print(f'\\nFor negative rho the answer would be as following:')\n",
        "ex3(mu, sigma, n,nMonte, alpha, -rho)"
      ]
    },
    {
      "attachments": {},
      "cell_type": "markdown",
      "id": "9fhrhSbL67ai",
      "metadata": {
        "id": "9fhrhSbL67ai"
      },
      "source": [
        "- We would reject more (about twice) compared to not taking absolute value. The p-value will be too small. assuming $\\mu_{0} = \\mu$ we would reject less or the same.\n",
        "\n",
        "- Using $\\rho < 0$ will change things as we can see above. It causes mu to be more times in the confidence interval than the expected and reject H0 less. p-value answer holds here as well\n",
        "\n"
      ]
    },
    {
      "attachments": {},
      "cell_type": "markdown",
      "id": "f2333100",
      "metadata": {
        "id": "f2333100"
      },
      "source": [
        "## Problem 2 ($t$-test is a kind of ANOVA)\n",
        "Consider the following two-sample problem. The data is\n",
        "$$\n",
        "y_{ij} = \\mu_i + \\epsilon_{ij},\\qquad j=1,\\ldots,n_i,\\quad i=0,1. \n",
        "$$\n",
        "\n",
        "1. Find the statistic $t$ for the two-sample $t$ test (using of the observable varaibles)\n",
        "2. Write the ANOVA table for $k=2$ and find the F statistic $F$ (using of the observable varaibles)\n",
        "3. Conclude that $t^2 = F$. \n",
        "4. Does the test that rejects when $|t| > t_{n-1}^{1-\\alpha/2}$ has larger power than the test that rejects when $F > F_{1,n-1}^{1-\\alpha}$ ? less? same? \n"
      ]
    },
    {
      "attachments": {},
      "cell_type": "markdown",
      "id": "CDGnM0DnFj6j",
      "metadata": {
        "id": "CDGnM0DnFj6j"
      },
      "source": [
        "2. 1. Denote: \n",
        "$$\\displaystyle{ s^{2} = \\frac{\\sum_{j=1}^{n_{0}}\\left(y_{0j} - \\mu_{0}\\right)^{2} + \\sum_{j=1}^{n_{1}}\\left(y_{1j} - \\mu_{1}\\right)^{2}}{n_{0}+n_{1}-2} }$$\n",
        "$$\\Downarrow$$\n",
        "$$\\displaystyle{t = \\frac{\\mu_{1} - \\mu_{0}}{\\sqrt{\\frac{s^{2}}{n_{0}}+\\frac{s^{2}}{n_{1}}}}}$$\n",
        "\n",
        "  2.<br> $\\begin{array}{|c|c|c|c|c|c|c|c|}\\hline\\\\ \\\\\n",
        "  source & DoF & SS & MS & F \\\\ \\hline\\\\ \\\\\n",
        "  Groups & 1 & SS_{between} = \\sum_{i=1}^{k}n_{i}\\left(\\bar{y}_{i.}-\\bar{y}_{..}\\right)^{2} & \\displaystyle{MS_{between} = \\frac{SS_{between}}{k-1} = SS_{between}}  & \\displaystyle{\\frac{MS_{between}}{MS_{within}} =  \\frac{\\left(n-2\\right)SS_{between}}{SS_{within}}}\\\\ \\hline\\\\ \\\\\n",
        "  Error & n-2 & SS_{within} = \\sum_{i=1}^{k}\\sum_{j=1}^{n_{i}}\\left(\\bar{y}_{ij}-\\bar{y}_{i.}\\right)^{2} & \\displaystyle{MS_{within} = \\frac{SS_{within}}{n-k} = \\frac{SS_{within}}{n-2}} &  \\\\ \\hline\\\\ \\\\\n",
        "  Total & n-1 & SS_{tot} = SS_{between}+SS_{within} &  &  \\\\ \\hline\n",
        "  \\end{array}$\n",
        "  <br>\n",
        "  3. $$\\displaystyle{t = \\frac{\\mu_{1} - \\mu_{0}}{\\sqrt{\\frac{s^{2}}{n_{0}}+\\frac{s^{2}}{n_{1}}}} \\Rightarrow t^{2} = \\frac{\\left(\\mu_{1} - \\mu_{0}\\right)^{2}}{\\frac{s^{2}}{n_{0}}+\\frac{s^{2}}{n_{1}}} = \\frac{\\left(\\mu_{1} - \\mu_{0}\\right)^{2}}{s^{2}\\left(\\frac{1}{n_{0}}+\\frac{1}{n_{1}}\\right)} = \\frac{\\left(\\mu_{1} - \\mu_{0}\\right)^{2}}{s^{2}\\left(\\frac{n_{1}+n_{0}}{n_{0}n_{1}}\\right)} = \\frac{n_{0}n_{1}}{n_{1}+n_{0}}\\frac{\\left(\\mu_{1} - \\mu_{0}\\right)^{2}}{s^{2}}}$$\n",
        "\n",
        "  $$\\displaystyle{s^{2} = MS_{within} = \\frac{SS_{within}}{n-2} }$$\n",
        "\n",
        "  $$\\displaystyle{SS_{between} = \\sum_{i=1}^{k}n_{i}\\left(\\bar{y}_{i.}-\\bar{y}_{..}\\right)^{2} = n_{0}\\left(\\bar{y}_{0.}-\\bar{y}_{..}\\right)^{2} + n_{1}\\left(\\bar{y}_{1.}-\\bar{y}_{..}\\right)^{2} = n_{0}\\left(\\mu_{0}-\\bar{y}_{..}\\right)^{2} + n_{1}\\left(\\mu_{1}-\\bar{y}_{..}\\right)^{2} = n_{0}\\left(\\mu_{0}-\\frac{n_{0}\\mu_{0} + n_{1}\\mu_{1}}{n}\\right)^{2} + n_{1}\\left(\\mu_{1}-\\frac{n_{0}\\mu_{0} + n_{1}\\mu_{1}}{n}\\right)^{2} = n_{0}\\left(\\frac{n\\mu_{0}-n_{0}\\mu_{0} - n_{1}\\mu_{1}}{n}\\right)^{2} + n_{1}\\left(\\frac{n\\mu_{1}-n_{0}\\mu_{0} - n_{1}\\mu_{1}}{n}\\right)^{2} = n_{0}\\left(\\frac{n_{1}\\mu_{0} - n_{1}\\mu_{1}}{n}\\right)^{2} + n_{1}\\left(\\frac{n_{0}\\mu_{1} - n_{0}\\mu_{0}}{n}\\right)^{2} = n_{0}\\left(\\frac{n_{1}\\left(\\mu_{0} - \\mu_{1}\\right)}{n}\\right)^{2} + n_{1}\\left(\\frac{n_{0}\\left(\\mu_{1} - \\mu_{0}\\right)}{n}\\right)^{2} \\\\= \\frac{n_{0}n_{1}^{2}\\left(\\mu_{0} - \\mu_{1}\\right)^{2} }{n^{2}}+ \\frac{n_{1}n_{0}^{2}\\left(\\mu_{1} - \\mu_{0}\\right)^{2}}{n^{2}} = \\frac{\\left(n_{0}n_{1}^{2} + n_{1}n_{0}^{2}\\right)\\left(\\mu_{0} - \\mu_{1}\\right)^{2} }{n^{2}} = \\frac{\\left(n_{0}n_{1}\\left[n_{0} + n_{1}\\right]\\right)\\left(\\mu_{0} - \\mu_{1}\\right)^{2} }{n^{2}} = \\frac{n_{0}n_{1}}{n}\\left(\\mu_{0} - \\mu_{1}\\right)^{2}\\\\ }$$\n",
        "\n",
        "  $$\\Downarrow$$\n",
        "\n",
        "  $$ F = \\frac{\\left(n-2\\right)SS_{between}}{SS_{within}} = \\frac{SS_{between}}{s^{2}} = \\frac{n_{0}n_{1}}{n}\\frac{\\left(\\mu_{0} - \\mu_{1}\\right)^{2}}{s^{2}} = t^{2}$$\n",
        "\n",
        "  4. By 3.3. and what shown in the lectures these tests have the same power."
      ]
    },
    {
      "attachments": {},
      "cell_type": "markdown",
      "id": "7c3a36e1",
      "metadata": {
        "id": "7c3a36e1"
      },
      "source": [
        "## Problem 3 (ANOVA Decomposition)\n",
        "In class, we considered the decomposition:\n",
        "$$\n",
        "\\begin{equation}\n",
        "\\mathrm{SS}_{tot} = \\mathrm{SS}_{within} + \\mathrm{SS}_{between}\n",
        "\\tag{1} \n",
        "\\end{equation}\n",
        "$$\n",
        "where\n",
        "$$\n",
        "\\mathrm{SS}_{between} = \\sum_{i=1}^k n_i(\\bar{y}_{i\\cdot} - \\bar{y}_{\\cdot \\cdot})^2,\\qquad \\mathrm{SS}_{within} = \\sum_{i=1}^k \\sum_{j=1}^{n_i} (y_{ij} - \\bar{y}_{i\\cdot})^2\n",
        "$$\n",
        "Prove $\\eqref{eq:ANOVA}$ by expanding:\n",
        "$$\n",
        "\\mathrm{SS}_{tot} = \\sum_{i=1}^k \\sum_{j=1}^{n_i} (y_{ij} - \\bar{y}_{\\cdot \\cdot})^2 = \\sum_{i=1}^k \\sum_{j=1}^{n_i} (y_{ij} - \\bar{y}_{i\\cdot} + \\bar{y}_{i\\cdot} - \\bar{y}_{\\cdot \\cdot})^2 = ...\n",
        "$$"
      ]
    },
    {
      "attachments": {},
      "cell_type": "markdown",
      "id": "o3EngMEJAkEd",
      "metadata": {
        "id": "o3EngMEJAkEd"
      },
      "source": [
        "$$\n",
        "\\mathrm{SS}_{tot} = \\sum_{i=1}^k \\sum_{j=1}^{n_i} (y_{ij} - \\bar{y}_{\\cdot \\cdot})^2 = \\sum_{i=1}^k \\sum_{j=1}^{n_i} (y_{ij} - \\bar{y}_{i\\cdot} + \\bar{y}_{i\\cdot} - \\bar{y}_{\\cdot \\cdot})^2 = \\sum_{i=1}^k \\sum_{j=1}^{n_i} \\left(\\underbrace{ y_{ij} - \\bar{y}_{i\\cdot} }_a + \\underbrace{\\bar{y}_{i\\cdot} - \\bar{y}_{\\cdot \\cdot}}_b\\right)^2 \\underbrace{=}_{\\left(a+b\\right)^{2} = a^2 + 2ab + b^2}\\\\ \\sum_{i=1}^k \\sum_{j=1}^{n_i}\\left[\\left(y_{ij}-\\bar{y}_{i.}\\right)^2 + 2\\left(y_{ij}-\\bar{y}_{i.}\\right)\\left(\\bar{y}_{i.}-\\bar{y}_{..}\\right) + \\left(\\bar{y}_{i.}-\\bar{y}_{..}\\right)^{2}\\right] =\\\\ \\underbrace{\\sum_{i=1}^k \\sum_{j=1}^{n_i}\\left(y_{ij}-\\bar{y}_{i.}\\right)^2}_{SS_{within}} + 2\\sum_{i=1}^k \\sum_{j=1}^{n_i}\\left(y_{ij}-\\bar{y}_{i.}\\right)\\left(\\bar{y}_{i.}-\\bar{y}_{..}\\right) + \\sum_{i=1}^k \\sum_{j=1}^{n_i}\\left(\\bar{y}_{i.}-\\bar{y}_{..}\\right)^{2} =\\\\ SS_{within} + 2\\sum_{i=1}^k \\left(\\bar{y}_{i.}-\\bar{y}_{..}\\right)\\sum_{j=1}^{n_i}\\left(y_{ij}-\\bar{y}_{i.}\\right) + \\sum_{i=1}^k n_i\\left(\\bar{y}_{i.}-\\bar{y}_{..}\\right)^{2} =\\\\ SS_{within} + 2\\sum_{i=1}^k \\left(\\bar{y}_{i.}-\\bar{y}_{..}\\right)\\sum_{j=1}^{n_i}\\left(y_{ij}-\\bar{y}_{i.}\\right) + SS_{between} = \\\\ SS_{within} + 2\\sum_{i=1}^k \\left(\\bar{y}_{i.}-\\bar{y}_{..}\\right)\\left[\\sum_{j=1}^{n_i}y_{ij}-\\sum_{j=1}^{n_i}\\bar{y}_{i.}\\right] + SS_{between} =\\\\ SS_{within} + 2\\sum_{i=1}^k \\left(\\bar{y}_{i.}-\\bar{y}_{..}\\right)\\left[n_i\\bar{y}_{i.}-n_i\\bar{y}_{i.}\\right] + SS_{between} =\\\\ SS_{within} + 2\\sum_{i=1}^k \\left(\\bar{y}_{i.}-\\bar{y}_{..}\\right)\\cdot0 + SS_{between} = \\\\SS_{within} + SS_{between}\n",
        "$$"
      ]
    },
    {
      "attachments": {},
      "cell_type": "markdown",
      "id": "dd219c7b",
      "metadata": {
        "id": "dd219c7b"
      },
      "source": [
        "## Problem 4 (ANOVA in practice)\n",
        "Consider Israeli wines in the wine dataset ``winemag-data_first150k.csv`` used in class (downloaded from Kaggle https://www.kaggle.com/datasets/zynicide/wine-reviews?select=winemag-data_first150k.csv). Use ANOVA to measure the effect of winary (``winary``) and price (``price``) on the quality (``points``) of wine of veriaty ``Cabernet Sauvignon``. \n",
        "1. Load dataset; replace the word ``Gamla`` with ``Golan Height Winary`` because this is the correct name of the winary; keep only relevant records according to the fields ``country`` and ``veriaty``; if you find any duplicated records in the data, remove those that are redundant. Also, we only include winaries with at least 3 samples. You can achieve the above by the code at the next cell. "
      ]
    },
    {
      "cell_type": "code",
      "execution_count": 4,
      "id": "2140cbc0",
      "metadata": {
        "ExecuteTime": {
          "end_time": "2023-04-27T18:05:34.735544Z",
          "start_time": "2023-04-27T18:05:32.172368Z"
        },
        "id": "2140cbc0"
      },
      "outputs": [],
      "source": [
        "!mkdir ~/.kaggle\n",
        "!touch ~/.kaggle/kaggle.json\n",
        "\n",
        "api_token = {\"username\":\"bdr293\",\"key\":\"270bc8fc2c9aba57b25370a0f339b63b\"}\n",
        "\n",
        "import json\n",
        "\n",
        "with open('/root/.kaggle/kaggle.json', 'w') as file:\n",
        "    json.dump(api_token, file)\n",
        "\n",
        "!chmod 600 ~/.kaggle/kaggle.json"
      ]
    },
    {
      "cell_type": "code",
      "execution_count": 5,
      "id": "MIGY_ZIomUTe",
      "metadata": {
        "colab": {
          "base_uri": "https://localhost:8080/"
        },
        "id": "MIGY_ZIomUTe",
        "outputId": "911de9c5-7535-47e3-9c2a-a5f925ac39f6"
      },
      "outputs": [
        {
          "name": "stdout",
          "output_type": "stream",
          "text": [
            "Downloading winemag-data_first150k.csv.zip to /content\n",
            "\r  0% 0.00/16.7M [00:00<?, ?B/s]\r 30% 5.00M/16.7M [00:00<00:00, 31.6MB/s]\n",
            "\r100% 16.7M/16.7M [00:00<00:00, 79.1MB/s]\n",
            "Archive:  winemag-data_first150k.csv.zip\n",
            "  inflating: winemag-data/winemag-data_first150k.csv  \n"
          ]
        }
      ],
      "source": [
        "!kaggle datasets download zynicide/wine-reviews -f winemag-data_first150k.csv\n",
        "!mkdir winemag-data\n",
        "!unzip winemag-data_first150k.csv.zip -d winemag-data/"
      ]
    },
    {
      "cell_type": "code",
      "execution_count": 6,
      "id": "db60db3b",
      "metadata": {
        "id": "db60db3b"
      },
      "outputs": [],
      "source": [
        "import pandas as pd\n",
        "wine_df = pd.read_csv(\"winemag-data/winemag-data_first150k.csv\")\n",
        "variety = 'Cabernet Sauvignon'\n",
        "min_per_group = 2\n",
        "israeli_wines = wine_df[(wine_df.country == 'Israel') & (wine_df.variety == variety)]\\\n",
        "                .filter(['country', 'description','designation', 'points',\n",
        "                         'price','region_1', 'region_2', 'variety', 'winery'])\\\n",
        "                .replace('Gamla', 'Golan Heights Winery')\\\n",
        "                .drop_duplicates(keep='first')\\\n",
        "                .groupby('winery')\\\n",
        "                .filter(lambda x : len(x) >= min_per_group)\n"
      ]
    },
    {
      "attachments": {},
      "cell_type": "markdown",
      "id": "b124d0b7",
      "metadata": {
        "id": "b124d0b7"
      },
      "source": [
        "2. Plot the boxplot with ``winary`` as the x-axis and ``points`` as the y-axis.\n",
        "3. Use ANOVA to figure out whether some winaries make better cabernets than others; print the ANOVA table and explain your conclusion.\n",
        "\n",
        "4. Find which wineries have cabernets ranked higher than others:\n",
        " - Run all t-tests of pairs of winaries; how many of the test's P-values fall below 0.05? is it more than what is expceted if all tests are null?\n",
        " - Use Bonferroni's method to decide which winaries ranked singnificantly higher than others by reporting on the list of pairs whose P-value is significant after Bonferroni's correction. Also indicate which one is ranked higher out of each pair."
      ]
    },
    {
      "attachments": {},
      "cell_type": "markdown",
      "id": "KQV6ReysUifc",
      "metadata": {
        "id": "KQV6ReysUifc"
      },
      "source": [
        "2."
      ]
    },
    {
      "cell_type": "code",
      "execution_count": 7,
      "id": "p99UltcII081",
      "metadata": {
        "colab": {
          "base_uri": "https://localhost:8080/",
          "height": 667
        },
        "id": "p99UltcII081",
        "outputId": "35f30128-8f3f-4a57-ab36-8aeb0f6d88c3"
      },
      "outputs": [
        {
          "data": {
            "image/png": "[encoded data removed]",
            "text/plain": [
              "<Figure size 1500x600 with 1 Axes>"
            ]
          },
          "metadata": {},
          "output_type": "display_data"
        }
      ],
      "source": [
        "from matplotlib import pyplot as plt\n",
        "import seaborn as sns\n",
        "\n",
        "fig = plt.figure(figsize = (15, 6))\n",
        "sns.boxplot(israeli_wines, y='points', x='winery')\n",
        "plt.xticks(rotation=45)\n",
        "plt.title(\"Points grouped by winery\")\n",
        "plt.show(fig)"
      ]
    },
    {
      "attachments": {},
      "cell_type": "markdown",
      "id": "6HzNdIx-Ujyi",
      "metadata": {
        "id": "6HzNdIx-Ujyi"
      },
      "source": [
        "3."
      ]
    },
    {
      "cell_type": "code",
      "execution_count": 57,
      "id": "hhW6gihvUkzt",
      "metadata": {
        "id": "hhW6gihvUkzt"
      },
      "outputs": [],
      "source": [
        "from scipy.stats import f\n",
        "\n",
        "grouped = israeli_wines.loc[:, ['points', 'winery']].groupby('winery')\n",
        "all_values_per_winery = grouped.points.apply(list)\n",
        "\n",
        "y_i_s = grouped.sum() / grouped.count()\n",
        "y_mean = np.sum(grouped.count() * y_i_s) / grouped.count().sum()\n",
        "\n",
        "SS_between = np.sum(grouped.count() * (y_i_s - y_mean)**2)[0]\n",
        "SS_within = np.sum([np.sum((all_values_per_winery[winery] - y_i_s.loc[winery].values[0])**2) for winery in y_i_s.index])\n",
        "SS_tot = SS_between + SS_within\n",
        "\n",
        "groups_DoF = len(y_i_s.index) - 1\n",
        "error_DoF = israeli_wines.shape[0] - len(y_i_s.index)\n",
        "total_DoF = groups_DoF + error_DoF\n",
        "\n",
        "MS_between = SS_between/groups_DoF\n",
        "MS_within = SS_within/error_DoF\n",
        "\n",
        "F = MS_between / MS_within\n",
        "\n",
        "p_value = f.sf(F, groups_DoF, error_DoF)"
      ]
    },
    {
      "cell_type": "code",
      "execution_count": 58,
      "id": "S8NsxJx1bQbN",
      "metadata": {
        "colab": {
          "base_uri": "https://localhost:8080/"
        },
        "id": "S8NsxJx1bQbN",
        "outputId": "587e8221-f843-4ad8-d7d6-beb5ef3303e6"
      },
      "outputs": [
        {
          "name": "stdout",
          "output_type": "stream",
          "text": [
            "+--------+-----+----------+--------+--------+--------------------+\n",
            "| Source | DoF |    SS    |   MS   |   F    |      p_value       |\n",
            "+--------+-----+----------+--------+--------+--------------------+\n",
            "| Groups |  14 | 106.6825 | 7.6202 | 1.5944 | p_value = 0.108376 |\n",
            "| Error  |  58 | 277.2079 | 4.7794 |        |                    |\n",
            "| Total  |  72 | 383.8904 |        |        |                    |\n",
            "+--------+-----+----------+--------+--------+--------------------+\n"
          ]
        }
      ],
      "source": [
        "from prettytable import PrettyTable\n",
        "\n",
        "table = PrettyTable()\n",
        "table.field_names = [\"Source\", \"DoF\", \"SS\", \"MS\", \"F\", \"p_value\"]\n",
        "\n",
        "\n",
        "table.add_row([\"Groups\", f\"{groups_DoF}\", f\"{SS_between:.4f}\", f\"{MS_between:.4f}\", f\"{F:.4f}\", f\"p_value = {p_value:7f}\"])\n",
        "table.add_row([\"Error\", f\"{error_DoF}\", f\"{SS_within:.4f}\", f\"{MS_within:.4f}\", \"\", \"\"])\n",
        "table.add_row([\"Total\", f\"{total_DoF}\", f\"{SS_tot:.4f}\", \"\", \"\", \"\"])\n",
        "\n",
        "print(table)"
      ]
    },
    {
      "attachments": {},
      "cell_type": "markdown",
      "id": "Ua4fXArBdZjl",
      "metadata": {
        "id": "Ua4fXArBdZjl"
      },
      "source": [
        "  Since our p_value is not small we can't reject the hypothesis, meaning all winaries make the same cabernets. "
      ]
    },
    {
      "attachments": {},
      "cell_type": "markdown",
      "id": "-OAHzo4MeqO1",
      "metadata": {
        "id": "-OAHzo4MeqO1"
      },
      "source": [
        "4."
      ]
    },
    {
      "cell_type": "code",
      "execution_count": 10,
      "id": "3KjheRFKerLU",
      "metadata": {
        "id": "3KjheRFKerLU"
      },
      "outputs": [],
      "source": [
        "def pair_t_test(winery1, winery2):\n",
        "    n_0 = len(winery1)\n",
        "    n_1 = len(winery2)\n",
        "    mu_0 = np.mean(winery1)\n",
        "    mu_1 = np.mean(winery2)\n",
        "    DoF = n_0 + n_1 - 2\n",
        "    s = ((np.sum((winery1 - mu_0) ** 2) + np.sum((winery2 - mu_1) ** 2)) / DoF) ** 0.5\n",
        "\n",
        "    num = mu_1 - mu_0\n",
        "    denom = s * ((1 / n_0) + (1 / n_1)) ** 0.5\n",
        "    t = num / denom\n",
        "\n",
        "    return t, DoF"
      ]
    },
    {
      "cell_type": "code",
      "execution_count": 11,
      "id": "PwGrFko_gPpB",
      "metadata": {
        "colab": {
          "base_uri": "https://localhost:8080/"
        },
        "id": "PwGrFko_gPpB",
        "outputId": "9d2dd082-e33e-44a4-d843-c384313f9dcc"
      },
      "outputs": [
        {
          "name": "stdout",
          "output_type": "stream",
          "text": [
            "8 out of 105 p_values are below 0.05, 7.62%, which is more than expected\n"
          ]
        }
      ],
      "source": [
        "from itertools import combinations\n",
        "from scipy.stats import t\n",
        "\n",
        "p_values = []\n",
        "\n",
        "pairs = combinations(y_i_s.index, r = 2)\n",
        "pairs = [(i, j) for i,j in pairs]\n",
        "for winery1, winery2 in pairs:\n",
        "    w_1 = all_values_per_winery[winery1]\n",
        "    w_2 = all_values_per_winery[winery2]\n",
        "    t_value, DoF = pair_t_test(w_1, w_2)\n",
        "    p_value = t.sf(abs(t_value), DoF)\n",
        "    p_values.append(p_value)\n",
        "\n",
        "alpha = 0.05\n",
        "p_values_below_alpha = [p_values for p_value in p_values if p_value < alpha / 2]\n",
        "\n",
        "val = 'more' if len(p_values_below_alpha)*100 /len(p_values) > alpha else 'less'\n",
        "print(f'{len(p_values_below_alpha)} out of {len(p_values)} p_values are below {alpha}, {len(p_values_below_alpha)*100 /len(p_values):.2f}%, which is {val} than expected')"
      ]
    },
    {
      "cell_type": "code",
      "execution_count": 12,
      "id": "c-n5441jn14M",
      "metadata": {
        "colab": {
          "base_uri": "https://localhost:8080/",
          "height": 484
        },
        "id": "c-n5441jn14M",
        "outputId": "91b0b1d1-f831-4720-ba17-4b60093ef773"
      },
      "outputs": [
        {
          "data": {
            "image/png": "[encoded data removed]",
            "text/plain": [
              "<Figure size 640x480 with 1 Axes>"
            ]
          },
          "metadata": {},
          "output_type": "display_data"
        },
        {
          "name": "stdout",
          "output_type": "stream",
          "text": [
            "Discovered by Bonferroni:\n"
          ]
        },
        {
          "data": {
            "text/plain": [
              "[]"
            ]
          },
          "execution_count": 12,
          "metadata": {},
          "output_type": "execute_result"
        }
      ],
      "source": [
        "indeces = np.argsort(p_values)\n",
        "sorted_p_values = np.array(p_values)[indeces]\n",
        "\n",
        "plt.scatter(np.arange(1,len(p_values)+1), sorted_p_values)\n",
        "\n",
        "m = len(p_values)\n",
        "# Discoveries by Bonferroni's:\n",
        "alpha = 0.05\n",
        "plt.plot([1, m], [alpha / m, alpha / m], '--r')\n",
        "plt.plot([1, m], [alpha, alpha], '--g')\n",
        "plt.ylabel('p_value')\n",
        "plt.xlabel('test #')\n",
        "plt.show()\n",
        "\n",
        "# Discoveries by BH:\n",
        "rejected = sorted_p_values * len(sorted_p_values) < .05\n",
        "\n",
        "print(\"Discovered by Bonferroni:\")\n",
        "[pairs[i] for i in indeces[rejected]]"
      ]
    },
    {
      "attachments": {},
      "cell_type": "markdown",
      "id": "a73adfa3",
      "metadata": {
        "id": "a73adfa3"
      },
      "source": [
        "## Problem 5 (contrasts)\n",
        "#### Continuation of Problem 4\n",
        "\n",
        "Load the data as in Question 4 (removing duplicates, leaving only samples from winaries of at least 3 samples of variety ``Cabernet Sauvignon``)\n",
        "\n",
        "Using a single t-test, test the assumption that cabernets in the Golan area wineries: ``Bazelet HaGolan``, ``Golan Heights Winery`` have the same quality as the average of Judean Hills area wineries: ``Katlav``, ``Psagot``, ``Shiloh Winery``, ``Titora``, ``Yatir`` (the goal here is to construct a \"contrast\", hence you should take an arithmetic average of group averages. Recall that the global vriance estimator is obtained using all data points, not just those involved in the contrast).\n",
        "\n",
        "Note: you can ignore the ``province`` filed in the data becasue it contains inaccurate information.\n",
        "\n"
      ]
    },
    {
      "cell_type": "code",
      "execution_count": 85,
      "id": "3fb2279a",
      "metadata": {
        "colab": {
          "base_uri": "https://localhost:8080/"
        },
        "id": "3fb2279a",
        "outputId": "37c6b0e1-162b-4f80-fe27-bf034bb2f963"
      },
      "outputs": [
        {
          "name": "stdout",
          "output_type": "stream",
          "text": [
            "We can't reject the hypothesis that Golan area wineries have the same quality as Judean area wineries (based on points)\n",
            "with alpha = 0.05 and p-value = 0.419214253746327\n"
          ]
        }
      ],
      "source": [
        "Golan_wineries = ['Bazelet HaGolan', 'Golan Heights Winery']\n",
        "Judean_wineries = ['Katlav', 'Psagot', 'Shiloh Winery', 'Titora', 'Yatir']\n",
        "\n",
        "Golan_wineries_df = israeli_wines.loc[israeli_wines['winery'].isin(Golan_wineries), ['points', 'winery']]\n",
        "Judean_wineries_df = israeli_wines.loc[israeli_wines['winery'].isin(Judean_wineries), ['points', 'winery']]\n",
        "\n",
        "grouped_Golan = Golan_wineries_df.groupby('winery')\n",
        "grouped_Judean = Judean_wineries_df.groupby('winery')\n",
        "\n",
        "all_values_Golan_wineries = grouped_Golan.points.apply(list)\n",
        "all_values_Judean_wineries = grouped_Judean.points.apply(list)\n",
        "\n",
        "means_Golan = grouped_Golan.sum()/grouped_Golan.count()\n",
        "means_Judean = grouped_Judean.sum()/grouped_Judean.count()\n",
        "\n",
        "s = MS_within ** 0.5\n",
        "\n",
        "num = np.sum(means_Golan)/means_Golan.shape[0] - np.sum(means_Judean)/means_Judean.shape[0]\n",
        "denum = s * (((1/(len(means_Golan)**2)) * np.sum(1/grouped_Golan.count())[0]) +\\\n",
        "             ((1/(len(means_Judean)**2)) * np.sum(1/grouped_Judean.count())[0])) ** 0.5\n",
        "\n",
        "t_statistic = num/denum\n",
        "p_value = t.sf(abs(t_statistic), israeli_wines.shape[0] - (len(means_Golan) + len(means_Judean)))\n",
        "\n",
        "alpha = 0.05\n",
        "val = \"reject\" if p_value < alpha/2 else \"can't reject\"\n",
        "print(f'We {val} the hypothesis that Golan area wineries have the same quality as Judean area wineries (based on points)\\n'\n",
        "      f'with alpha = {alpha} and p-value = {p_value[0]}')"
      ]
    },
    {
      "cell_type": "code",
      "execution_count": null,
      "id": "DzL312SbvhVP",
      "metadata": {
        "id": "DzL312SbvhVP"
      },
      "outputs": [],
      "source": []
    }
  ],
  "metadata": {
    "colab": {
      "include_colab_link": true,
      "provenance": []
    },
    "kernelspec": {
      "display_name": "Python 3",
      "language": "python",
      "name": "python3"
    },
    "language_info": {
      "codemirror_mode": {
        "name": "ipython",
        "version": 3
      },
      "file_extension": ".py",
      "mimetype": "text/x-python",
      "name": "python",
      "nbconvert_exporter": "python",
      "pygments_lexer": "ipython3",
      "version": "3.8.5"
    }
  },
  "nbformat": 4,
  "nbformat_minor": 5
}
